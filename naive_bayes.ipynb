{
 "cells": [
  {
   "cell_type": "markdown",
   "id": "01052295",
   "metadata": {},
   "source": [
    "# Import Libraries"
   ]
  },
  {
   "cell_type": "code",
   "execution_count": 4,
   "id": "16735b90",
   "metadata": {},
   "outputs": [],
   "source": [
    "import numpy as np\n",
    "import matplotlib.pyplot as plt\n",
    "import pandas as pd\n",
    "from sklearn import neighbors, datasets, preprocessing\n",
    "from sklearn.model_selection import train_test_split"
   ]
  },
  {
   "cell_type": "markdown",
   "id": "4f4394f6",
   "metadata": {},
   "source": [
    "# Loading IRIS dataset and categorization into test and train datasets"
   ]
  },
  {
   "cell_type": "code",
   "execution_count": 11,
   "id": "09ac9eb1",
   "metadata": {},
   "outputs": [],
   "source": [
    "iris = datasets.load_iris()\n",
    "x,y = iris.data[: , :],iris.target\n",
    "xtrain,xtest,ytrain,ytest = train_test_split(x,y, stratify = y, random_state = 0,train_size = 0.7)"
   ]
  },
  {
   "cell_type": "markdown",
   "id": "97c312cc",
   "metadata": {},
   "source": [
    "# Feature scaling"
   ]
  },
  {
   "cell_type": "code",
   "execution_count": 12,
   "id": "1b9ff49e",
   "metadata": {},
   "outputs": [],
   "source": [
    "from sklearn.preprocessing import StandardScaler\n",
    "sc = StandardScaler()\n",
    "xtrain = sc.fit_transform(xtrain)\n",
    "xtest = sc.transform(xtest)\n"
   ]
  },
  {
   "cell_type": "markdown",
   "id": "cf50ca7f",
   "metadata": {},
   "source": [
    "# Naive Bayes using GaussianNB and BernoulliNB"
   ]
  },
  {
   "cell_type": "markdown",
   "id": "0ab24a8a",
   "metadata": {},
   "source": [
    "## GaussianNB "
   ]
  },
  {
   "cell_type": "code",
   "execution_count": 27,
   "id": "3cbb5302",
   "metadata": {},
   "outputs": [
    {
     "data": {
      "text/plain": [
       "array([[15,  0,  0],\n",
       "       [ 0, 15,  0],\n",
       "       [ 0,  1, 14]], dtype=int64)"
      ]
     },
     "execution_count": 27,
     "metadata": {},
     "output_type": "execute_result"
    }
   ],
   "source": [
    "from sklearn.naive_bayes import GaussianNB, BernoulliNB, CategoricalNB\n",
    "from sklearn.metrics import confusion_matrix\n",
    "from sklearn.metrics import accuracy_score\n",
    "scores = []\n",
    "classifier = GaussianNB()\n",
    "classifier.fit(xtrain, ytrain)\n",
    "ypred = classifier.predict(xtest)\n",
    "scores.append(accuracy_score(ytest, ypred))\n",
    "cm = confusion_matrix(ytest, ypred)\n",
    "cm\n"
   ]
  },
  {
   "cell_type": "markdown",
   "id": "99f8a015",
   "metadata": {},
   "source": [
    "## BernoulliNB"
   ]
  },
  {
   "cell_type": "code",
   "execution_count": 28,
   "id": "a2bd7362",
   "metadata": {},
   "outputs": [
    {
     "data": {
      "text/plain": [
       "array([[15,  0,  0],\n",
       "       [ 1,  6,  8],\n",
       "       [ 0,  3, 12]], dtype=int64)"
      ]
     },
     "execution_count": 28,
     "metadata": {},
     "output_type": "execute_result"
    }
   ],
   "source": [
    "from sklearn.naive_bayes import GaussianNB, BernoulliNB, CategoricalNB\n",
    "from sklearn.metrics import confusion_matrix\n",
    "from sklearn.metrics import accuracy_score\n",
    "classifier1 = BernoulliNB()\n",
    "classifier1.fit(xtrain, ytrain)\n",
    "ypred = classifier1.predict(xtest)\n",
    "scores.append(accuracy_score(ytest, ypred))\n",
    "cm = confusion_matrix(ytest, ypred)\n",
    "cm"
   ]
  },
  {
   "cell_type": "markdown",
   "id": "00358465",
   "metadata": {},
   "source": [
    "# Printing Scores of both Naive bayes classifiers"
   ]
  },
  {
   "cell_type": "code",
   "execution_count": 30,
   "id": "1fe60e77",
   "metadata": {},
   "outputs": [
    {
     "name": "stdout",
     "output_type": "stream",
     "text": [
      "The score of gaussianNB 0.9777777777777777 and the score of bernouliNB 0.7333333333333333\n"
     ]
    }
   ],
   "source": [
    "print(\"The score of gaussianNB {} and the score of bernouliNB {}\".format(scores[0],scores[1]))"
   ]
  },
  {
   "cell_type": "code",
   "execution_count": null,
   "id": "7d72a824",
   "metadata": {},
   "outputs": [],
   "source": []
  }
 ],
 "metadata": {
  "kernelspec": {
   "display_name": "Python 3 (ipykernel)",
   "language": "python",
   "name": "python3"
  },
  "language_info": {
   "codemirror_mode": {
    "name": "ipython",
    "version": 3
   },
   "file_extension": ".py",
   "mimetype": "text/x-python",
   "name": "python",
   "nbconvert_exporter": "python",
   "pygments_lexer": "ipython3",
   "version": "3.9.12"
  }
 },
 "nbformat": 4,
 "nbformat_minor": 5
}
