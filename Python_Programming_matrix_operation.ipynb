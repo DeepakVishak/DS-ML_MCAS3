{
  "nbformat": 4,
  "nbformat_minor": 0,
  "metadata": {
    "colab": {
      "provenance": [],
      "authorship_tag": "ABX9TyMJhcBX3EoMSVjkZfyqVbtD",
      "include_colab_link": true
    },
    "kernelspec": {
      "name": "python3",
      "display_name": "Python 3"
    },
    "language_info": {
      "name": "python"
    }
  },
  "cells": [
    {
      "cell_type": "markdown",
      "metadata": {
        "id": "view-in-github",
        "colab_type": "text"
      },
      "source": [
        "<a href=\"https://colab.research.google.com/github/athullya-mol/Data_Science_Lab/blob/main/Python_Programming.ipynb\" target=\"_parent\"><img src=\"https://colab.research.google.com/assets/colab-badge.svg\" alt=\"Open In Colab\"/></a>"
      ]
    },
    {
      "cell_type": "markdown",
      "source": [
        "# **PYTHON PROGRAMMING**\n",
        "\n",
        "## *   Create a 3 x 3 Matrix\n",
        "\n",
        "## *   Change Dimension of an Array and Convert the NumPy Array into a List\n",
        "\n",
        "## *   Find Square Root\n",
        "\n",
        "## *   Populate a Number List\n",
        "\n",
        "## *   Convert List into Array \n",
        "\n",
        "\n",
        "\n",
        "\n"
      ],
      "metadata": {
        "id": "9F25wL4sQkFz"
      }
    },
    {
      "cell_type": "markdown",
      "metadata": {
        "id": "8f6-uc0r9Q4h"
      },
      "source": [
        "### Activities"
      ]
    },
    {
      "cell_type": "markdown",
      "metadata": {
        "id": "q4fH06mIjuK3"
      },
      "source": [
        "#### Activity 1: Create a 3 X 3 Matrix\n",
        "\n",
        "To create a 3x3 matrix with values ranging from 2 to 10.\n",
        "\n",
        "**For Example**:\n",
        "\n",
        "```\n",
        "[[ 2  3  4]\n",
        " [ 5  6  7]\n",
        " [ 8  9 10]]\n",
        "```\n",
        "\n",
        "Follow the steps given below to achieve the desired result:\n",
        "\n",
        "  - **Step 1**: Import `numpy` module.\n",
        "\n",
        "  - **Step 2**: Use `arange()` function to create array of numbers from 2 to 10 and `reshape()` function to reshape your array into another array having 3 rows and 3 columns. Store this reshaped array in a variable `x`.\n",
        "\n",
        "  - **Step 3**: Print variable `x` to get the output.\n",
        "\n",
        " "
      ]
    },
    {
      "cell_type": "code",
      "metadata": {
        "id": "4EAoTskqg041",
        "colab": {
          "base_uri": "https://localhost:8080/"
        },
        "outputId": "20ed50bf-adf2-4d5c-99ab-5986090b9d47"
      },
      "source": [
        "# Write your code here\n",
        "import numpy as np\n",
        "matrix=np.arange(2,11)\n",
        "print(matrix)\n",
        "\n",
        "x= matrix.reshape(3,3)\n",
        "\n",
        "print(x)"
      ],
      "execution_count": null,
      "outputs": [
        {
          "output_type": "stream",
          "name": "stdout",
          "text": [
            "[ 2  3  4  5  6  7  8  9 10]\n",
            "[[ 2  3  4]\n",
            " [ 5  6  7]\n",
            " [ 8  9 10]]\n"
          ]
        }
      ]
    },
    {
      "cell_type": "markdown",
      "metadata": {
        "id": "xJlPs9X9oeRw"
      },
      "source": [
        "---"
      ]
    },
    {
      "cell_type": "markdown",
      "metadata": {
        "id": "qA-b1CdeofKc"
      },
      "source": [
        "#### Activity 2: Change Dimension of an Array and Convert the NumPy Array into a List\n",
        "\n",
        "Write a program to change the dimension of an array (say `my_arr =[1, 2, 3, 4, 5, 6, 7, 8, 9]`) into a 3 X 3 (3 rows and 3 columns) array and convert this NumPy array into a list.\n",
        "\n",
        "**For Example:**\n",
        "```\n",
        "Original array is [1 2 3 4 5 6 7 8 9]\n",
        "Dimension is (9,)\n",
        "Change array shape to (3, 3) -> 3 rows and 3 columns \n",
        "[[1 2 3]\n",
        " [4 5 6]\n",
        " [7 8 9]]\n",
        "\n",
        "The data type of the converted variable is \n",
        " list\n",
        "```\n"
      ]
    },
    {
      "cell_type": "code",
      "metadata": {
        "id": "AtvPTG3kpBoS",
        "colab": {
          "base_uri": "https://localhost:8080/"
        },
        "outputId": "ca718302-77f9-419c-c010-161f235b5dfb"
      },
      "source": [
        "# Write your code here\n",
        "lists=x.tolist()\n",
        "print(arr)"
      ],
      "execution_count": null,
      "outputs": [
        {
          "output_type": "stream",
          "name": "stdout",
          "text": [
            "[[2, 3, 4], [5, 6, 7], [8, 9, 10]]\n"
          ]
        }
      ]
    },
    {
      "cell_type": "markdown",
      "metadata": {
        "id": "KOVBiUSMzut1"
      },
      "source": [
        "---"
      ]
    },
    {
      "cell_type": "markdown",
      "metadata": {
        "id": "b4aeCDi0pkJz"
      },
      "source": [
        "#### Activity 3: Find Square Root \n",
        "\n",
        "Write a program to perform following task:\n",
        "-  Print the square root of numbers in the list.\n",
        "\n",
        "**For Example**:\n",
        "\n",
        "```\n",
        "list1 = [4, 16, 9, 1, 25]\n",
        "[2   4    3   1    5 ]\n",
        "\n",
        "```\n",
        "**Hint:** Use `np.sqrt()` function.\n",
        " "
      ]
    },
    {
      "cell_type": "code",
      "metadata": {
        "id": "d5ufKLNYzsIl",
        "colab": {
          "base_uri": "https://localhost:8080/"
        },
        "outputId": "30038aab-3bd7-47ae-fbe3-8d4b1ea03dcb"
      },
      "source": [
        "# Write your solution here\n",
        "list1 = [4, 16, 9, 1, 25]\n",
        "sqrt_arr=np.sqrt(list1)\n",
        "print(sqrt_arr)"
      ],
      "execution_count": null,
      "outputs": [
        {
          "output_type": "stream",
          "name": "stdout",
          "text": [
            "[2. 4. 3. 1. 5.]\n"
          ]
        }
      ]
    },
    {
      "cell_type": "markdown",
      "metadata": {
        "id": "HSz7jRSlGxIO"
      },
      "source": [
        "---"
      ]
    },
    {
      "cell_type": "markdown",
      "metadata": {
        "id": "yBYfVsIkMapp"
      },
      "source": [
        "#### Activity 4: Create and Update a Null NumPy Array \n",
        "\n",
        "Create a null NumPy array of size 10 and update the sixth value to 11.\n",
        "\n",
        "A null array is basically an array with all elements as `0`.\n",
        "\n",
        "Follow the steps given below to achieve the desired result:\n",
        "\n",
        "- **Step 1:** Import the Numpy module as `np`.\n",
        "\n",
        "- **Step 2**: Create a null array by passing the size i.e. `10` inside the `np.zeros()` function and store it in a variable `null_arr`. \n",
        "\n",
        "- **Step 3**: Print the null array.\n",
        "\n",
        "- **Step 4**: Now update the sixth element of the array by using **list indexing** method. As you need to update the sixth element, the index must be `5`.\n",
        "\n",
        "- **Step 5**: Print the updated array in the output.\n",
        "\n"
      ]
    },
    {
      "cell_type": "code",
      "metadata": {
        "id": "1SkvwQ1bMap6",
        "colab": {
          "base_uri": "https://localhost:8080/"
        },
        "outputId": "4b453a35-4dcf-470b-b28b-63bb4a9fc9bb"
      },
      "source": [
        "# Write a program to create Null array of size 10 and update the sixth value to 11.\n",
        "import numpy as np\n",
        "null_arr=np.zeros(10)\n",
        "print(null_arr)\n",
        "\n",
        "null_arr[5]=10\n",
        "\n",
        "print(null_arr)"
      ],
      "execution_count": null,
      "outputs": [
        {
          "output_type": "stream",
          "name": "stdout",
          "text": [
            "[0. 0. 0. 0. 0. 0. 0. 0. 0. 0.]\n",
            "[ 0.  0.  0.  0.  0. 10.  0.  0.  0.  0.]\n"
          ]
        }
      ]
    },
    {
      "cell_type": "markdown",
      "metadata": {
        "id": "g4IbWToh9uJb"
      },
      "source": [
        "In the above program we have created a null array by using the `np.zeros()` function of the `numpy` module.\n",
        "\n",
        "We have updated the 6th element to `11` by using list indexing method."
      ]
    },
    {
      "cell_type": "markdown",
      "metadata": {
        "id": "wY10aNk0Map9"
      },
      "source": [
        "---"
      ]
    },
    {
      "cell_type": "markdown",
      "metadata": {
        "id": "2LWcJiG8Map9"
      },
      "source": [
        "#### Activity 5: Populate a Number List\n",
        "\n",
        "Write a program that populates a list by numbers that lies in the range of 0 - 49 and also divisible by 5. Use List Comprehension method.\n",
        "\n",
        "**Output**: `[0, 5, 10, 15, 20, 25, 30, 35, 40, 45]`\n",
        "\n",
        "\n"
      ]
    },
    {
      "cell_type": "code",
      "metadata": {
        "id": "NSr2koqJMap-",
        "colab": {
          "base_uri": "https://localhost:8080/"
        },
        "outputId": "8cd7446c-a88d-4d99-c2e2-f224774c1846"
      },
      "source": [
        "# Write a program to populate a number list divisible by 5 in a range 0 - 49\n",
        "num_arr=np.arange(50)\n",
        "num5_arr=[i for i in num_arr if i%5==0]\n",
        "print(num5_arr)"
      ],
      "execution_count": null,
      "outputs": [
        {
          "output_type": "stream",
          "name": "stdout",
          "text": [
            "[0, 5, 10, 15, 20, 25, 30, 35, 40, 45]\n"
          ]
        }
      ]
    },
    {
      "cell_type": "markdown",
      "metadata": {
        "id": "yXOg0NUQ-Azb"
      },
      "source": [
        "Here, using list comprehension method we are running a `for` loop in range `0 - 49` and checking whether the number is divisible by `5` or not, using an `if` condition.\n",
        "\n",
        "If number satisfies the condition, then that number is appended to `number_list`."
      ]
    },
    {
      "cell_type": "markdown",
      "metadata": {
        "id": "jTiwP3uIMaqA"
      },
      "source": [
        "---"
      ]
    },
    {
      "cell_type": "markdown",
      "metadata": {
        "id": "UH27IpTXFL37"
      },
      "source": [
        "#### Activity 6: Convert List into Array \n",
        "\n",
        "Write a program to convert a list of numeric values into a one-dimensional NumPy array.\n",
        "\n",
        "**For Example:**\n",
        "\n",
        "**Input**: `mylist = [1.23, 23.32, 300, 16.37]`\n",
        "\n",
        "Data type of `mylist` = `list`\n",
        "\n",
        "**Output**: `numpy_array = [1.23, 23.32, 300, 16.37]`\n",
        "\n",
        "Data type of `numpy_array` = `numpy.ndarray`"
      ]
    },
    {
      "cell_type": "code",
      "metadata": {
        "id": "0ocKkCNpFWOY",
        "colab": {
          "base_uri": "https://localhost:8080/"
        },
        "outputId": "b647c292-5019-4f1b-ae2c-dae547941a0a"
      },
      "source": [
        "# Program to convert a list into one dimensional NumPy array\n",
        "mylist = [1.23, 23.32, 300, 16.37]\n",
        "print(type(mylist))\n",
        "numpy_array=np.array(mylist)\n",
        "print(numpy_array)\n",
        "print(type(numpy_array))"
      ],
      "execution_count": null,
      "outputs": [
        {
          "output_type": "stream",
          "name": "stdout",
          "text": [
            "<class 'list'>\n",
            "[  1.23  23.32 300.    16.37]\n",
            "<class 'numpy.ndarray'>\n"
          ]
        }
      ]
    }
  ]
}