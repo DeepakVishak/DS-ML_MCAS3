{
 "cells": [
  {
   "cell_type": "markdown",
   "id": "74fa1234",
   "metadata": {},
   "source": [
    "# Python program to create bar plot \n",
    "Write a Python program to create bar plot of scores by group and gender. Use multiple X values on \n",
    "the same chart for men and women.\n",
    "Sample Data:\n",
    "Means (men) = (22, 30, 35, 35, 26)\n",
    "Means (women) = (25, 32, 30, 35, 29)"
   ]
  },
  {
   "cell_type": "code",
   "execution_count": 1,
   "id": "377eb173",
   "metadata": {},
   "outputs": [],
   "source": [
    "import numpy as np\n",
    "import matplotlib.pyplot as plt"
   ]
  },
  {
   "cell_type": "code",
   "execution_count": 2,
   "id": "a9abb475",
   "metadata": {},
   "outputs": [],
   "source": [
    "y1 = [22,30,35,35,26]\n",
    "y2 = [25,32,30,35,29]\n",
    "x_labels = ['G1','G2','G3','G4','G5']"
   ]
  },
  {
   "cell_type": "code",
   "execution_count": 3,
   "id": "0f1bfde1",
   "metadata": {},
   "outputs": [],
   "source": [
    "x1 = np.arange(5)\n",
    "width = 0.40"
   ]
  },
  {
   "cell_type": "code",
   "execution_count": 6,
   "id": "91d0d4bf",
   "metadata": {},
   "outputs": [
    {
     "data": {
      "image/png": "[encoded data removed]",
      "text/plain": [
       "<Figure size 432x288 with 1 Axes>"
      ]
     },
     "metadata": {
      "needs_background": "light"
     },
     "output_type": "display_data"
    }
   ],
   "source": [
    "plt.bar(x1-0.2,y1,color=\"green\",width=width,label='Men')\n",
    "plt.bar(x1+0.2,y2,color=\"red\",width=width,label='Women')\n",
    "plt.xticks(x1,x_labels)\n",
    "plt.xlabel(\"Person\")\n",
    "plt.ylabel(\"Scores\")\n",
    "plt.legend()\n",
    "plt.title(\"scores by group and gender\")\n",
    "plt.show()"
   ]
  },
  {
   "cell_type": "code",
   "execution_count": null,
   "id": "9b458f57",
   "metadata": {},
   "outputs": [],
   "source": []
  }
 ],
 "metadata": {
  "kernelspec": {
   "display_name": "Python 3 (ipykernel)",
   "language": "python",
   "name": "python3"
  },
  "language_info": {
   "codemirror_mode": {
    "name": "ipython",
    "version": 3
   },
   "file_extension": ".py",
   "mimetype": "text/x-python",
   "name": "python",
   "nbconvert_exporter": "python",
   "pygments_lexer": "ipython3",
   "version": "3.9.12"
  }
 },
 "nbformat": 4,
 "nbformat_minor": 5
}
