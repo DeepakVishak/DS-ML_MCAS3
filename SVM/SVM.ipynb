{
  "nbformat": 4,
  "nbformat_minor": 0,
  "metadata": {
    "colab": {
      "provenance": [],
      "toc_visible": true
    },
    "kernelspec": {
      "name": "python3",
      "display_name": "Python 3"
    },
    "language_info": {
      "name": "python"
    }
  },
  "cells": [
    {
      "cell_type": "code",
      "execution_count": null,
      "metadata": {
        "id": "jxwZOCkDrElt"
      },
      "outputs": [],
      "source": [
        "import numpy as np\n",
        "import matplotlib.pyplot as plt\n",
        "import pandas as pd"
      ]
    },
    {
      "cell_type": "markdown",
      "source": [
        "# Importing the datasets"
      ],
      "metadata": {
        "id": "2OIOPnKKrv8r"
      }
    },
    {
      "cell_type": "code",
      "source": [
        "df = pd.read_csv('Social_Network_Ads.csv')\n",
        "X = df.iloc[:, [2,3]]\n",
        "Y = df.iloc[:, 4]"
      ],
      "metadata": {
        "id": "aA3Pjk8-r2kf"
      },
      "execution_count": null,
      "outputs": []
    },
    {
      "cell_type": "markdown",
      "source": [
        "# Splitting the dataset into the Training set and Test set"
      ],
      "metadata": {
        "id": "X9COfrGkthLE"
      }
    },
    {
      "cell_type": "code",
      "source": [
        "from sklearn.model_selection import train_test_split\n",
        "X_Train, X_Test, Y_Train, Y_Test = train_test_split(X, Y, test_size = 0.25, random_state = 0)"
      ],
      "metadata": {
        "id": "RqU_Emndtjd3"
      },
      "execution_count": null,
      "outputs": []
    },
    {
      "cell_type": "markdown",
      "source": [
        "## Feature Scaling"
      ],
      "metadata": {
        "id": "PfAX6hV1ucVd"
      }
    },
    {
      "cell_type": "code",
      "source": [
        "from sklearn.preprocessing import StandardScaler\n",
        "sc_X = StandardScaler()\n",
        "X_Train = sc_X.fit_transform(X_Train)\n",
        "X_Test = sc_X.transform(X_Test)"
      ],
      "metadata": {
        "id": "OD_BIY1funO8"
      },
      "execution_count": null,
      "outputs": []
    },
    {
      "cell_type": "markdown",
      "source": [
        "\n",
        "####using linear"
      ],
      "metadata": {
        "id": "QUFLHxyIuvwB"
      }
    },
    {
      "cell_type": "code",
      "source": [
        "from sklearn.svm import SVC\n",
        "classifier = SVC(kernel = 'linear', random_state = 0)\n",
        "classifier.fit(X_Train, Y_Train)"
      ],
      "metadata": {
        "colab": {
          "base_uri": "https://localhost:8080/"
        },
        "id": "VwB-afIPu1cK",
        "outputId": "618243c2-0755-4242-c1ce-88648998ea21"
      },
      "execution_count": null,
      "outputs": [
        {
          "output_type": "execute_result",
          "data": {
            "text/plain": [
              "SVC(kernel='linear', random_state=0)"
            ]
          },
          "metadata": {},
          "execution_count": 9
        }
      ]
    },
    {
      "cell_type": "markdown",
      "source": [
        "# Predicting the test set results"
      ],
      "metadata": {
        "id": "lbrot8agu8Bm"
      }
    },
    {
      "cell_type": "code",
      "source": [
        "Y_Pred = classifier.predict(X_Test)\n",
        "Y_Pred\n",
        "from sklearn import metrics\n",
        "print('Accuracy Score: with linear kernel')\n",
        "print(metrics.accuracy_score(Y_Test,Y_Pred))"
      ],
      "metadata": {
        "colab": {
          "base_uri": "https://localhost:8080/"
        },
        "id": "BT7aJGZHvBhZ",
        "outputId": "669d8999-dfe5-47c3-9856-76d05a5b089c"
      },
      "execution_count": null,
      "outputs": [
        {
          "output_type": "stream",
          "name": "stdout",
          "text": [
            "Accuracy Score: with linear kernel\n",
            "0.9\n"
          ]
        }
      ]
    },
    {
      "cell_type": "markdown",
      "source": [
        "##using rbf"
      ],
      "metadata": {
        "id": "L5EKnoIbvG5b"
      }
    },
    {
      "cell_type": "code",
      "source": [
        "from sklearn.svm import SVC\n",
        "classifier1 = SVC(kernel = 'rbf')\n",
        "classifier1.fit(X_Train, Y_Train)"
      ],
      "metadata": {
        "colab": {
          "base_uri": "https://localhost:8080/"
        },
        "id": "ogE5hXO0vM74",
        "outputId": "0817f86c-ab6c-4ee5-eeba-9f766070baa0"
      },
      "execution_count": null,
      "outputs": [
        {
          "output_type": "execute_result",
          "data": {
            "text/plain": [
              "SVC()"
            ]
          },
          "metadata": {},
          "execution_count": 11
        }
      ]
    },
    {
      "cell_type": "markdown",
      "source": [
        "##Predicting the test set results"
      ],
      "metadata": {
        "id": "vjo8egbcvT84"
      }
    },
    {
      "cell_type": "code",
      "source": [
        "Y_Pred = classifier1.predict(X_Test)\n",
        "print('Accuracy Score: with default rbf kernel')\n",
        "print(metrics.accuracy_score(Y_Test,Y_Pred))\n"
      ],
      "metadata": {
        "colab": {
          "base_uri": "https://localhost:8080/"
        },
        "id": "Ax2vf5wQvdyv",
        "outputId": "c87fbdd4-42c4-43fe-bd31-4c5d78d21a53"
      },
      "execution_count": null,
      "outputs": [
        {
          "output_type": "stream",
          "name": "stdout",
          "text": [
            "Accuracy Score: with default rbf kernel\n",
            "0.93\n"
          ]
        }
      ]
    },
    {
      "cell_type": "markdown",
      "source": [
        "##using poly"
      ],
      "metadata": {
        "id": "uoxz7YY4vjCo"
      }
    },
    {
      "cell_type": "code",
      "source": [
        "svc=SVC(kernel='poly', degree = 4)\n",
        "svc.fit(X_Train,Y_Train)\n",
        "y_pred=svc.predict(X_Test)\n",
        "print('Accuracy Score:with poly kernel and degree ')\n",
        "print(metrics.accuracy_score(Y_Test,Y_Pred)) "
      ],
      "metadata": {
        "colab": {
          "base_uri": "https://localhost:8080/"
        },
        "id": "bx3As6gyvnSP",
        "outputId": "fb748217-904b-4b3a-b084-be622ecc7813"
      },
      "execution_count": null,
      "outputs": [
        {
          "output_type": "stream",
          "name": "stdout",
          "text": [
            "Accuracy Score:with poly kernel and degree \n",
            "0.93\n"
          ]
        }
      ]
    },
    {
      "cell_type": "markdown",
      "source": [
        "\n",
        "# Plot data points using linear"
      ],
      "metadata": {
        "id": "1jWim5WnvtWR"
      }
    },
    {
      "cell_type": "code",
      "source": [
        "print('Plot using Linear ')\n",
        "plt.scatter(X_Test[:, 0], X_Test[:, 1],c=Y_Test)  \n",
        "plt.scatter(X_Train[:, 0], X_Train[:, 1],c=Y_Train)"
      ],
      "metadata": {
        "colab": {
          "base_uri": "https://localhost:8080/",
          "height": 303
        },
        "id": "mctw03mmv0J4",
        "outputId": "8532da82-5079-4b2e-d10f-d376ce2ccff8"
      },
      "execution_count": null,
      "outputs": [
        {
          "output_type": "stream",
          "name": "stdout",
          "text": [
            "Plot using Linear \n"
          ]
        },
        {
          "output_type": "execute_result",
          "data": {
            "text/plain": [
              "<matplotlib.collections.PathCollection at 0x7f80d40b1610>"
            ]
          },
          "metadata": {},
          "execution_count": 14
        },
        {
          "output_type": "display_data",
          "data": {
            "text/plain": [
              "<Figure size 432x288 with 1 Axes>"
            ],
            "image/png": "[encoded data removed]"
          },
          "metadata": {
            "needs_background": "light"
          }
        }
      ]
    },
    {
      "cell_type": "markdown",
      "source": [
        "# Create the hyperplane"
      ],
      "metadata": {
        "id": "rR7gz1hcv-G-"
      }
    },
    {
      "cell_type": "code",
      "source": [
        "w = classifier.coef_[0]\n",
        "a = -w[0] / w[1]\n",
        "xx = np.linspace(-2.5, 2.5)\n",
        "yy = a * xx - (classifier.intercept_[0]) / w[1]  "
      ],
      "metadata": {
        "id": "DKStIEAwwDBd"
      },
      "execution_count": null,
      "outputs": []
    },
    {
      "cell_type": "markdown",
      "source": [
        "# Plot the hyperplane"
      ],
      "metadata": {
        "id": "KcdezodKwIM3"
      }
    },
    {
      "cell_type": "code",
      "source": [
        "plt.plot(xx, yy)\n",
        "plt.axis(\"off\"), plt.show();"
      ],
      "metadata": {
        "colab": {
          "base_uri": "https://localhost:8080/",
          "height": 248
        },
        "id": "Q_ZdBzcMwMXp",
        "outputId": "4fe6c095-5ec4-4536-8db7-73ccd6a66c10"
      },
      "execution_count": null,
      "outputs": [
        {
          "output_type": "display_data",
          "data": {
            "text/plain": [
              "<Figure size 432x288 with 1 Axes>"
            ],
            "image/png": "[encoded data removed]"
          },
          "metadata": {
            "needs_background": "light"
          }
        }
      ]
    },
    {
      "cell_type": "markdown",
      "source": [],
      "metadata": {
        "id": "P9C5R4OhtaiV"
      }
    },
    {
      "cell_type": "markdown",
      "source": [],
      "metadata": {
        "id": "HxN4fDoxtgIj"
      }
    },
    {
      "cell_type": "markdown",
      "source": [],
      "metadata": {
        "id": "7ZlaZJnPr5mg"
      }
    }
  ]
}